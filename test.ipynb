{
 "cells": [
  {
   "cell_type": "code",
   "execution_count": null,
   "source": [
    "import json\n",
    "\n",
    "with open('../json_data/train_new_split.json') as f:\n",
    "    for l in f.readlines():\n",
    "        print(json.loads(l))\n",
    "        break"
   ],
   "outputs": [],
   "metadata": {}
  },
  {
   "cell_type": "code",
   "execution_count": 2,
   "source": [
    "import matplotlib\n",
    "import numpy as np\n",
    "import matplotlib.pyplot as plt\n",
    "%matplotlib inline  \n",
    "from matplotlib import rcParams\n",
    "print(matplotlib.matplotlib_fname())\n",
    "# rcParams['font.family'] = 'NanumGothic'\n",
    "plt.title(u'한글 제목')\n",
    "plt.xlabel(u'한글 축 이름')\n",
    "plt.plot(range(5))"
   ],
   "outputs": [
    {
     "output_type": "stream",
     "name": "stdout",
     "text": [
      "/opt/conda/envs/mmdet/lib/python3.8/site-packages/matplotlib/mpl-data/matplotlibrc\n"
     ]
    },
    {
     "output_type": "execute_result",
     "data": {
      "text/plain": [
       "[<matplotlib.lines.Line2D at 0x7fa1c4eafee0>]"
      ]
     },
     "metadata": {},
     "execution_count": 2
    },
    {
     "output_type": "stream",
     "name": "stderr",
     "text": [
      "/opt/conda/envs/mmdet/lib/python3.8/site-packages/matplotlib/backends/backend_agg.py:240: RuntimeWarning: Glyph 54620 missing from current font.\n",
      "  font.set_text(s, 0.0, flags=flags)\n",
      "/opt/conda/envs/mmdet/lib/python3.8/site-packages/matplotlib/backends/backend_agg.py:240: RuntimeWarning: Glyph 44544 missing from current font.\n",
      "  font.set_text(s, 0.0, flags=flags)\n",
      "/opt/conda/envs/mmdet/lib/python3.8/site-packages/matplotlib/backends/backend_agg.py:240: RuntimeWarning: Glyph 51228 missing from current font.\n",
      "  font.set_text(s, 0.0, flags=flags)\n",
      "/opt/conda/envs/mmdet/lib/python3.8/site-packages/matplotlib/backends/backend_agg.py:240: RuntimeWarning: Glyph 47785 missing from current font.\n",
      "  font.set_text(s, 0.0, flags=flags)\n",
      "/opt/conda/envs/mmdet/lib/python3.8/site-packages/matplotlib/backends/backend_agg.py:240: RuntimeWarning: Glyph 52629 missing from current font.\n",
      "  font.set_text(s, 0.0, flags=flags)\n",
      "/opt/conda/envs/mmdet/lib/python3.8/site-packages/matplotlib/backends/backend_agg.py:240: RuntimeWarning: Glyph 51060 missing from current font.\n",
      "  font.set_text(s, 0.0, flags=flags)\n",
      "/opt/conda/envs/mmdet/lib/python3.8/site-packages/matplotlib/backends/backend_agg.py:240: RuntimeWarning: Glyph 47492 missing from current font.\n",
      "  font.set_text(s, 0.0, flags=flags)\n",
      "/opt/conda/envs/mmdet/lib/python3.8/site-packages/matplotlib/backends/backend_agg.py:203: RuntimeWarning: Glyph 54620 missing from current font.\n",
      "  font.set_text(s, 0, flags=flags)\n",
      "/opt/conda/envs/mmdet/lib/python3.8/site-packages/matplotlib/backends/backend_agg.py:203: RuntimeWarning: Glyph 44544 missing from current font.\n",
      "  font.set_text(s, 0, flags=flags)\n",
      "/opt/conda/envs/mmdet/lib/python3.8/site-packages/matplotlib/backends/backend_agg.py:203: RuntimeWarning: Glyph 52629 missing from current font.\n",
      "  font.set_text(s, 0, flags=flags)\n",
      "/opt/conda/envs/mmdet/lib/python3.8/site-packages/matplotlib/backends/backend_agg.py:203: RuntimeWarning: Glyph 51060 missing from current font.\n",
      "  font.set_text(s, 0, flags=flags)\n",
      "/opt/conda/envs/mmdet/lib/python3.8/site-packages/matplotlib/backends/backend_agg.py:203: RuntimeWarning: Glyph 47492 missing from current font.\n",
      "  font.set_text(s, 0, flags=flags)\n",
      "/opt/conda/envs/mmdet/lib/python3.8/site-packages/matplotlib/backends/backend_agg.py:203: RuntimeWarning: Glyph 51228 missing from current font.\n",
      "  font.set_text(s, 0, flags=flags)\n",
      "/opt/conda/envs/mmdet/lib/python3.8/site-packages/matplotlib/backends/backend_agg.py:203: RuntimeWarning: Glyph 47785 missing from current font.\n",
      "  font.set_text(s, 0, flags=flags)\n"
     ]
    },
    {
     "output_type": "display_data",
     "data": {
      "text/plain": [
       "<Figure size 432x288 with 1 Axes>"
      ],
      "image/png": "[encoded data removed]"
     },
     "metadata": {
      "needs_background": "light"
     }
    }
   ],
   "metadata": {}
  },
  {
   "cell_type": "code",
   "execution_count": 2,
   "source": [
    "import matplotlib\n",
    "print(matplotlib.get_cachedir())"
   ],
   "outputs": [
    {
     "output_type": "stream",
     "name": "stdout",
     "text": [
      "/home/jovyan/.cache/matplotlib\n"
     ]
    }
   ],
   "metadata": {}
  },
  {
   "cell_type": "code",
   "execution_count": 1,
   "source": [
    "\n",
    "!python tools/test.py \\\n",
    "    /home/jovyan/workspace/ml_mg/cbnetev2/configs/custom/163_htc_cbv2_swin_base_patch4_window7_mstrain_400-1400_giou_4conv1f_adamw_20e_coco.py \\\n",
    "    /home/jovyan/workspace/ml_mg/cbnetev2/work_dirs/163_htc_cbv2_swin_base_patch4_window7_mstrain_400-1400_giou_4conv1f_adamw_20e_coco/latest.pth \\\n",
    "    --out /home/jovyan/workspace/ml_mg/cbnetev2/work_dirs/163_htc_cbv2_swin_base_patch4_window7_mstrain_400-1400_giou_4conv1f_adamw_20e_coco/epoch_20_result.pkl \\\n",
    "    --eval bbox "
   ],
   "outputs": [
    {
     "output_type": "stream",
     "name": "stdout",
     "text": [
      "loading annotations into memory...\n",
      "Done (t=0.19s)\n",
      "creating index...\n",
      "index created!\n"
     ]
    }
   ],
   "metadata": {}
  },
  {
   "cell_type": "code",
   "execution_count": null,
   "source": [
    "!python tools/analysis_tools/analyze_results.py \\\n",
    "      /home/jovyan/workspace/ml_mg/cbnetev2/configs/custom/163_htc_cbv2_swin_base_patch4_window7_mstrain_400-1400_giou_4conv1f_adamw_20e_coco.py \\\n",
    "      /home/jovyan/workspace/ml_mg/cbnetev2/work_dirs/163_htc_cbv2_swin_base_patch4_window7_mstrain_400-1400_giou_4conv1f_adamw_20e_coco/epoch_22_result.pkl \\\n",
    "      /home/jovyan/workspace/ml_mg/cbnetev2/work_dirs/163_htc_cbv2_swin_base_patch4_window7_mstrain_400-1400_giou_4conv1f_adamw_20e_coco/result_images \\\n",
    "      --topk 100 \\\n",
    "      --show-score-thr 0.5"
   ],
   "outputs": [],
   "metadata": {}
  },
  {
   "cell_type": "code",
   "execution_count": null,
   "source": [
    "!./tools/dist_test.sh \\\n",
    "    /home/jovyan/workspace/ml_mg/cbnetev2/configs/custom/163_htc_cbv2_swin_base_patch4_window7_mstrain_400-1400_giou_4conv1f_adamw_20e_coco.py \\\n",
    "    /home/jovyan/workspace/ml_mg/cbnetev2/work_dirs/163_htc_cbv2_swin_base_patch4_window7_mstrain_400-1400_giou_4conv1f_adamw_20e_coco/latest.pth \\\n",
    "    1 \\\n",
    "    --out /home/jovyan/workspace/ml_mg/cbnetev2/work_dirs/163_htc_cbv2_swin_base_patch4_window7_mstrain_400-1400_giou_4conv1f_adamw_20e_coco/epoch_22_result.pkl \\\n",
    "    --eval bbox \\\n",
    "    --eval-options \"classwise=True\""
   ],
   "outputs": [],
   "metadata": {}
  },
  {
   "cell_type": "code",
   "execution_count": 9,
   "source": [
    "\n",
    "!python tools/test.py \\\n",
    "    /home/jovyan/workspace/ml_mg/cbnetev2/configs/custom/163_htc_cbv2_swin_base_patch4_window7_mstrain_400-1400_giou_4conv1f_adamw_20e_coco.py \\\n",
    "    /home/jovyan/workspace/ml_mg/cbnetev2/work_dirs/163_htc_cbv2_swin_base_patch4_window7_mstrain_400-1400_giou_4conv1f_adamw_20e_coco/latest.pth \\\n",
    "    --out /home/jovyan/workspace/ml_mg/cbnetev2/work_dirs/163_htc_cbv2_swin_base_patch4_window7_mstrain_400-1400_giou_4conv1f_adamw_20e_coco/epoch_40_result.pkl \\\n",
    "    --eval bbox \\\n",
    "    --eval-options \"classwise=True\""
   ],
   "outputs": [
    {
     "output_type": "stream",
     "name": "stdout",
     "text": [
      "loading annotations into memory...\n",
      "Done (t=0.21s)\n",
      "creating index...\n",
      "index created!\n",
      "/home/jovyan/workspace/ml_mg/cbnetev2/mmdet/core/anchor/builder.py:15: UserWarning: ``build_anchor_generator`` would be deprecated soon, please use ``build_prior_generator`` \n",
      "  warnings.warn(\n",
      "Use load_from_local loader\n",
      "[                                                  ] 0/3006, elapsed: 0s, ETA:/home/jovyan/workspace/ml_mg/cbnetev2/mmdet/core/anchor/anchor_generator.py:323: UserWarning: ``grid_anchors`` would be deprecated soon. Please use ``grid_priors`` \n",
      "  warnings.warn('``grid_anchors`` would be deprecated soon. '\n",
      "/home/jovyan/workspace/ml_mg/cbnetev2/mmdet/core/anchor/anchor_generator.py:359: UserWarning: ``single_level_grid_anchors`` would be deprecated soon. Please use ``single_level_grid_priors`` \n",
      "  warnings.warn(\n",
      "[>>>>>>>>>>>>>>>>>>>>>>>>>>] 3006/3006, 2.3 task/s, elapsed: 1319s, ETA:     0s\n",
      "writing results to /home/jovyan/workspace/ml_mg/cbnetev2/work_dirs/163_htc_cbv2_swin_base_patch4_window7_mstrain_400-1400_giou_4conv1f_adamw_20e_coco/epoch_40_result.pkl\n",
      "\n",
      "Evaluating bbox...\n",
      "Loading and preparing results...\n",
      "DONE (t=1.19s)\n",
      "creating index...\n",
      "index created!\n",
      "Running per image evaluation...\n",
      "Evaluate annotation type *bbox*\n",
      "DONE (t=26.42s).\n",
      "Accumulating evaluation results...\n",
      "DONE (t=7.98s).\n",
      " Average Precision  (AP) @[ IoU=0.50:0.95 | area=   all | maxDets=100 ] = 0.447\n",
      " Average Precision  (AP) @[ IoU=0.50      | area=   all | maxDets=1000 ] = 0.500\n",
      " Average Precision  (AP) @[ IoU=0.75      | area=   all | maxDets=1000 ] = 0.469\n",
      " Average Precision  (AP) @[ IoU=0.50:0.95 | area= small | maxDets=1000 ] = 0.000\n",
      " Average Precision  (AP) @[ IoU=0.50:0.95 | area=medium | maxDets=1000 ] = 0.252\n",
      " Average Precision  (AP) @[ IoU=0.50:0.95 | area= large | maxDets=1000 ] = 0.453\n",
      " Average Recall     (AR) @[ IoU=0.50:0.95 | area=   all | maxDets=100 ] = 0.778\n",
      " Average Recall     (AR) @[ IoU=0.50:0.95 | area=   all | maxDets=300 ] = 0.778\n",
      " Average Recall     (AR) @[ IoU=0.50:0.95 | area=   all | maxDets=1000 ] = 0.778\n",
      " Average Recall     (AR) @[ IoU=0.50:0.95 | area= small | maxDets=1000 ] = 0.000\n",
      " Average Recall     (AR) @[ IoU=0.50:0.95 | area=medium | maxDets=1000 ] = 0.352\n",
      " Average Recall     (AR) @[ IoU=0.50:0.95 | area= large | maxDets=1000 ] = 0.787\n",
      "\n",
      "+-------------------+-------+---------------------------+-------+--------------------+-------+\n",
      "| category          | AP    | category                  | AP    | category           | AP    |\n",
      "+-------------------+-------+---------------------------+-------+--------------------+-------+\n",
      "| 기타              | 0.325 | 가래떡                    | 0.031 | 어묵볶음           | 0.774 |\n",
      "| 쌀밥              | 0.822 | 배추김치                  | 0.887 | 라면류             | 0.542 |\n",
      "| 닭찜              | 0.627 | 육류튀김                  | 0.219 | 김치찌개           | 0.443 |\n",
      "| 케이크류          | 0.464 | 잡곡밥                    | 0.796 | 두부               | 0.370 |\n",
      "| 제육볶음          | 0.625 | 열무김치                  | 0.771 | 보리밥             | 0.356 |\n",
      "| 기타빵류          | 0.363 | 돼지등갈비찜              | 0.147 | 치킨류             | 0.479 |\n",
      "| 중식면류          | 0.725 | 달걀찜                    | 0.664 | 조미김             | 0.840 |\n",
      "| 감자볶음          | 0.563 | 미역국                    | 0.915 | 김밥               | 0.510 |\n",
      "| 국수류            | 0.561 | 기타반찬                  | 0.181 | 김치찜             | 0.626 |\n",
      "| 기타김치          | 0.787 | 스파게티류                | 0.675 | 기타떡             | 0.211 |\n",
      "| 토마토            | 0.382 | 치즈                      | 0.154 | 기타구이           | 0.229 |\n",
      "| 등심스테이크      | 0.353 | 볶음밥류                  | 0.783 | 참외               | 0.481 |\n",
      "| 버섯볶음          | 0.487 | 샐러드                    | 0.717 | 연근조림           | 0.910 |\n",
      "| 죽류              | 0.666 | 기타소스/기타장류         | 0.736 | 돼지고기 수육      | 0.633 |\n",
      "| 덮밥              | 0.403 | 젓갈                      | 0.559 | 돈까스             | 0.523 |\n",
      "| 시금치나물        | 0.707 | 포도                      | 0.328 | 앙금빵류           | 0.022 |\n",
      "| 상추              | 0.642 | 들깻잎                    | 0.459 | 육류전             | 0.264 |\n",
      "| 달걀프라이        | 0.796 | 채소류튀김                | 0.311 | 코다리찜           | 0.629 |\n",
      "| 기타불고기        | nan   | 돼지고기구이              | 0.278 | 버거류             | 0.661 |\n",
      "| 된장국            | 0.464 | 채소                      | 0.441 | 떡볶이             | 0.687 |\n",
      "| 낙지볶음          | 0.293 | 비빔밥                    | 0.469 | 사과               | 0.708 |\n",
      "| 피자류            | 0.792 | 숙주나물                  | 0.782 | 애호박볶음         | 0.608 |\n",
      "| 멸치볶음          | 0.836 | 생선구이                  | 0.663 | 깻잎장아찌         | 0.776 |\n",
      "| 콩조림            | 0.663 | 카레(커리)                | 0.598 | 돼지고기채소볶음   | 0.205 |\n",
      "| 바나나            | 0.498 | 파프리카                  | 0.262 | 고사리나물         | 0.727 |\n",
      "| 미역줄기볶음      | 0.721 | 콩나물국                  | 0.859 | 소불고기           | 0.519 |\n",
      "| 떠먹는요구르트    | 0.252 | 햄                        | 0.179 | 소고기구이         | 0.177 |\n",
      "| 버섯구이          | 0.113 | 오이                      | 0.437 | 된장찌개           | 0.635 |\n",
      "| 무생채            | 0.670 | 어패류튀김                | 0.220 | 키위               | 0.262 |\n",
      "| 리조또            | 0.349 | 오징어볶음                | 0.363 | 샌드위치류         | 0.535 |\n",
      "| 만두류            | 0.614 | 과자                      | 0.218 | 채소류전           | 0.133 |\n",
      "| 시리얼            | 0.304 | 순두부찌개                | 0.692 | 귤                 | 0.710 |\n",
      "| 딸기              | 0.461 | 기타스테이크              | 0.042 | 잡채               | 0.797 |\n",
      "| 오리불고기        | nan   | 취나물                    | 0.287 | 가지볶음           | 0.586 |\n",
      "| 삶은달걀          | 0.653 | 크림빵류                  | 0.236 | 부침류             | 0.327 |\n",
      "| 어패류전          | 0.252 | 한과류                    | 0.005 | 소갈비찜           | 0.398 |\n",
      "| 메추리알 장조림   | 0.397 | 안심스테이크              | 0.101 | 단호박찜           | 0.585 |\n",
      "| 식빵류            | 0.311 | 시래기나물                | 0.084 | 아귀찜             | 0.659 |\n",
      "| 김치볶음          | 0.541 | 우엉조림                  | 0.570 | 감                 | 0.389 |\n",
      "| 돼지불고기        | 0.179 | 고기장조림                | 0.729 | 두부조림           | 0.453 |\n",
      "| 오징어채볶음      | 0.813 | 즉석밥                    | 0.325 | 오삼불고기         | 0.108 |\n",
      "| 현미밥            | 0.339 | 파김치                    | 0.720 | 페이스트리(파이)류 | 0.144 |\n",
      "| 총각김치          | 0.647 | 닭가슴살                  | 0.157 | 해물찜             | 0.443 |\n",
      "| 도넛류            | 0.322 | 마시는요구르트            | nan   | 돼지갈비찜         | 0.266 |\n",
      "| 함박스테이크      | 0.060 | 오징어찜                  | 0.000 | 오이나물           | 0.419 |\n",
      "| 컵/액체류용기     | 0.682 | 삶은브로콜리              | 0.492 | 청국장찌개         | 0.201 |\n",
      "| 그라탕            | 0.533 | 적류                      | 0.900 | 소고기채소볶음     | 0.193 |\n",
      "| 조기찜            | 0.000 | 제품사진                  | 0.527 | 기타해조류         | 0.304 |\n",
      "| 기타장아찌/절임류 | 0.408 | 기타나물/숙채/생채/무침류 | 0.439 | 기타조림           | 0.257 |\n",
      "| 기타국/찌개/탕    | 0.473 | 기타튀김                  | 0.168 | 기타볶음           | 0.234 |\n",
      "| 기타난류          | 0.277 | 기타찜                    | 0.043 | 기타면류           | 0.473 |\n",
      "| 견과류            | 0.125 | 기타채소류                | 0.143 | 기타과실류         | 0.242 |\n",
      "| 크래커            | 0.000 | 기타전/적/부침류          | 0.149 | 기타밥류           | 0.166 |\n",
      "| 기타죽/스프류     | 0.406 | 도토리묵무침              | 0.477 | 튀김빵류           | 0.170 |\n",
      "| 기타과자류        | 0.309 | None                      | None  | None               | None  |\n",
      "+-------------------+-------+---------------------------+-------+--------------------+-------+\n",
      "OrderedDict([('bbox_mAP', 0.447), ('bbox_mAP_50', 0.5), ('bbox_mAP_75', 0.469), ('bbox_mAP_s', 0.0), ('bbox_mAP_m', 0.252), ('bbox_mAP_l', 0.453), ('bbox_mAP_copypaste', '0.447 0.500 0.469 0.000 0.252 0.453')])\n"
     ]
    }
   ],
   "metadata": {}
  },
  {
   "cell_type": "code",
   "execution_count": 8,
   "source": [
    "!python tools/analysis_tools/analyze_results_size_rescale.py \\\n",
    "      /home/jovyan/workspace/ml_mg/cbnetev2/configs/custom/163_htc_cbv2_swin_base_patch4_window7_mstrain_400-1400_giou_4conv1f_adamw_20e_coco.py \\\n",
    "      /home/jovyan/workspace/ml_mg/cbnetev2/work_dirs/163_htc_cbv2_swin_base_patch4_window7_mstrain_400-1400_giou_4conv1f_adamw_20e_coco/epoch_40_result.pkl \\\n",
    "      /home/jovyan/workspace/ml_mg/cbnetev2/work_dirs/163_htc_cbv2_swin_base_patch4_window7_mstrain_400-1400_giou_4conv1f_adamw_20e_coco/result_images \\\n",
    "      --topk 100 \\\n",
    "      --show-score-thr 0.5"
   ],
   "outputs": [
    {
     "output_type": "stream",
     "name": "stdout",
     "text": [
      "loading annotations into memory...\n",
      "Done (t=0.18s)\n",
      "creating index...\n",
      "index created!\n",
      "[>>>>>>>>>>>>>>>>>>>>>>>>>>>>>>>>] 10/10, 0.3 task/s, elapsed: 30s, ETA:     0s"
     ]
    }
   ],
   "metadata": {}
  }
 ],
 "metadata": {
  "orig_nbformat": 4,
  "language_info": {
   "name": "python",
   "version": "3.8.10",
   "mimetype": "text/x-python",
   "codemirror_mode": {
    "name": "ipython",
    "version": 3
   },
   "pygments_lexer": "ipython3",
   "nbconvert_exporter": "python",
   "file_extension": ".py"
  },
  "kernelspec": {
   "name": "python3",
   "display_name": "Python 3.8.10 64-bit ('mmdet': conda)"
  },
  "interpreter": {
   "hash": "21312738432ef6130ce28186bf7995021f1b58f39d5bbda33b55e5687e5eb362"
  }
 },
 "nbformat": 4,
 "nbformat_minor": 2
}